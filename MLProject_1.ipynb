{
  "nbformat": 4,
  "nbformat_minor": 0,
  "metadata": {
    "colab": {
      "name": "MLProject-1",
      "provenance": [],
      "collapsed_sections": [],
      "authorship_tag": "ABX9TyODBLH6KNouxTGc8uGDKgYO",
      "include_colab_link": true
    },
    "kernelspec": {
      "name": "python3",
      "display_name": "Python 3"
    },
    "accelerator": "GPU"
  },
  "cells": [
    {
      "cell_type": "markdown",
      "metadata": {
        "id": "view-in-github",
        "colab_type": "text"
      },
      "source": [
        "<a href=\"https://colab.research.google.com/github/KartikeyaTripathi/Google-Kickstart/blob/master/MLProject_1.ipynb\" target=\"_parent\"><img src=\"https://colab.research.google.com/assets/colab-badge.svg\" alt=\"Open In Colab\"/></a>"
      ]
    },
    {
      "cell_type": "code",
      "metadata": {
        "id": "5pu_0W_l4Kz8"
      },
      "source": [
        "import keras      "
      ],
      "execution_count": 2,
      "outputs": []
    },
    {
      "cell_type": "code",
      "metadata": {
        "id": "NDNnBnwy4RqB"
      },
      "source": [
        "from keras.datasets import mnist"
      ],
      "execution_count": 3,
      "outputs": []
    },
    {
      "cell_type": "code",
      "metadata": {
        "colab": {
          "base_uri": "https://localhost:8080/"
        },
        "id": "_JTNS9nE9bFd",
        "outputId": "31cd6f15-b5aa-487e-bb2e-a013096582ea"
      },
      "source": [
        "data = mnist.load_data()\n",
        "(train_images, train_labels), (test_images, test_labels) = data"
      ],
      "execution_count": 4,
      "outputs": [
        {
          "output_type": "stream",
          "text": [
            "Downloading data from https://storage.googleapis.com/tensorflow/tf-keras-datasets/mnist.npz\n",
            "11493376/11490434 [==============================] - 0s 0us/step\n"
          ],
          "name": "stdout"
        }
      ]
    },
    {
      "cell_type": "code",
      "metadata": {
        "colab": {
          "base_uri": "https://localhost:8080/"
        },
        "id": "ygR02frO9zLv",
        "outputId": "68376e73-2ff8-4fc5-bb4f-691a82631439"
      },
      "source": [
        "len(train_images)"
      ],
      "execution_count": 5,
      "outputs": [
        {
          "output_type": "execute_result",
          "data": {
            "text/plain": [
              "60000"
            ]
          },
          "metadata": {
            "tags": []
          },
          "execution_count": 5
        }
      ]
    },
    {
      "cell_type": "code",
      "metadata": {
        "colab": {
          "base_uri": "https://localhost:8080/"
        },
        "id": "m468LKox93oo",
        "outputId": "658f60ca-8c63-41a1-958d-a02cc49ebfa0"
      },
      "source": [
        "len(test_images)"
      ],
      "execution_count": 6,
      "outputs": [
        {
          "output_type": "execute_result",
          "data": {
            "text/plain": [
              "10000"
            ]
          },
          "metadata": {
            "tags": []
          },
          "execution_count": 6
        }
      ]
    },
    {
      "cell_type": "code",
      "metadata": {
        "colab": {
          "base_uri": "https://localhost:8080/"
        },
        "id": "ZYw1yqh398kV",
        "outputId": "e1b9cb6c-c1e6-4568-f7f6-9776181c5c22"
      },
      "source": [
        "len(test_labels)"
      ],
      "execution_count": 7,
      "outputs": [
        {
          "output_type": "execute_result",
          "data": {
            "text/plain": [
              "10000"
            ]
          },
          "metadata": {
            "tags": []
          },
          "execution_count": 7
        }
      ]
    },
    {
      "cell_type": "code",
      "metadata": {
        "id": "PzMw6ufX-AW2"
      },
      "source": [
        "train_images = train_images.reshape((60000, 28, 28, 1))"
      ],
      "execution_count": 8,
      "outputs": []
    },
    {
      "cell_type": "code",
      "metadata": {
        "id": "Gh-s7gj_-QyB"
      },
      "source": [
        "test_images = test_images.reshape((10000, 28, 28, 1))"
      ],
      "execution_count": 9,
      "outputs": []
    },
    {
      "cell_type": "code",
      "metadata": {
        "id": "tll3HAVq-az-"
      },
      "source": [
        "train_images = train_images.astype('float')/255 #normalization/scaling "
      ],
      "execution_count": 10,
      "outputs": []
    },
    {
      "cell_type": "code",
      "metadata": {
        "id": "BjnR54Q9GBoz"
      },
      "source": [
        "test_images = test_images.astype('float')/255"
      ],
      "execution_count": 11,
      "outputs": []
    },
    {
      "cell_type": "code",
      "metadata": {
        "id": "5L1XImUfGOig"
      },
      "source": [
        "from keras.preprocessing import image\n",
        "import matplotlib.pyplot as plt"
      ],
      "execution_count": 12,
      "outputs": []
    },
    {
      "cell_type": "code",
      "metadata": {
        "colab": {
          "base_uri": "https://localhost:8080/",
          "height": 282
        },
        "id": "7qnJ8_D4GuSD",
        "outputId": "255737bf-94ae-443e-a7c8-37213f19a074"
      },
      "source": [
        "plt.imshow(image.array_to_img(train_images[8]), cmap = \"gray\")"
      ],
      "execution_count": 13,
      "outputs": [
        {
          "output_type": "execute_result",
          "data": {
            "text/plain": [
              "<matplotlib.image.AxesImage at 0x7f52cebe5ac8>"
            ]
          },
          "metadata": {
            "tags": []
          },
          "execution_count": 13
        },
        {
          "output_type": "display_data",
          "data": {
            "image/png": "[encoded data removed]",
            "text/plain": [
              "<Figure size 432x288 with 1 Axes>"
            ]
          },
          "metadata": {
            "tags": [],
            "needs_background": "light"
          }
        }
      ]
    },
    {
      "cell_type": "code",
      "metadata": {
        "colab": {
          "base_uri": "https://localhost:8080/"
        },
        "id": "hKM90aGUHEpg",
        "outputId": "478471c3-9208-4dd1-b912-42eaac0ed3f9"
      },
      "source": [
        "train_labels[8]"
      ],
      "execution_count": 14,
      "outputs": [
        {
          "output_type": "execute_result",
          "data": {
            "text/plain": [
              "1"
            ]
          },
          "metadata": {
            "tags": []
          },
          "execution_count": 14
        }
      ]
    },
    {
      "cell_type": "code",
      "metadata": {
        "id": "nt7CXJhQHQYZ"
      },
      "source": [
        "from keras.utils import to_categorical\n",
        "train_labels_original = train_labels\n",
        "train_labels = to_categorical(train_labels)"
      ],
      "execution_count": 15,
      "outputs": []
    },
    {
      "cell_type": "code",
      "metadata": {
        "colab": {
          "base_uri": "https://localhost:8080/"
        },
        "id": "8Y6a9iniHpoJ",
        "outputId": "149be4a4-fc64-4978-e131-72aff3149a67"
      },
      "source": [
        "train_labels[20]"
      ],
      "execution_count": 16,
      "outputs": [
        {
          "output_type": "execute_result",
          "data": {
            "text/plain": [
              "array([0., 0., 0., 0., 1., 0., 0., 0., 0., 0.], dtype=float32)"
            ]
          },
          "metadata": {
            "tags": []
          },
          "execution_count": 16
        }
      ]
    },
    {
      "cell_type": "code",
      "metadata": {
        "id": "sHuxIWkcIZYP"
      },
      "source": [
        "test_labels_original = test_labels\n",
        "test_labels = to_categorical(test_labels)"
      ],
      "execution_count": 17,
      "outputs": []
    },
    {
      "cell_type": "code",
      "metadata": {
        "colab": {
          "base_uri": "https://localhost:8080/"
        },
        "id": "6JevB9dIIn2i",
        "outputId": "c011ed37-8b01-454f-89c0-e3799f64ed50"
      },
      "source": [
        "test_labels_original[7]"
      ],
      "execution_count": 18,
      "outputs": [
        {
          "output_type": "execute_result",
          "data": {
            "text/plain": [
              "9"
            ]
          },
          "metadata": {
            "tags": []
          },
          "execution_count": 18
        }
      ]
    },
    {
      "cell_type": "code",
      "metadata": {
        "colab": {
          "base_uri": "https://localhost:8080/"
        },
        "id": "gVkgX2usIw4k",
        "outputId": "3dba5d15-7b9f-4d74-aa44-fc11f305f896"
      },
      "source": [
        "test_labels[7]"
      ],
      "execution_count": 19,
      "outputs": [
        {
          "output_type": "execute_result",
          "data": {
            "text/plain": [
              "array([0., 0., 0., 0., 0., 0., 0., 0., 0., 1.], dtype=float32)"
            ]
          },
          "metadata": {
            "tags": []
          },
          "execution_count": 19
        }
      ]
    },
    {
      "cell_type": "code",
      "metadata": {
        "id": "-ZfF8VKbI_G9"
      },
      "source": [
        "from keras import layers, models"
      ],
      "execution_count": 20,
      "outputs": []
    },
    {
      "cell_type": "code",
      "metadata": {
        "id": "O2KQLd2lJHst"
      },
      "source": [
        "model = models.Sequential()"
      ],
      "execution_count": 21,
      "outputs": []
    },
    {
      "cell_type": "code",
      "metadata": {
        "id": "KtHRnMelJQGV"
      },
      "source": [
        "model.add(layers.Conv2D(32, (3,3),activation='relu', input_shape = (28,28,1)))"
      ],
      "execution_count": 22,
      "outputs": []
    },
    {
      "cell_type": "code",
      "metadata": {
        "id": "4WMsnEiHKZQP"
      },
      "source": [
        ""
      ],
      "execution_count": 22,
      "outputs": []
    },
    {
      "cell_type": "code",
      "metadata": {
        "colab": {
          "base_uri": "https://localhost:8080/"
        },
        "id": "S1xd2o13Jxgw",
        "outputId": "cd5e64a6-35a4-4a7d-8581-c14103f65a32"
      },
      "source": [
        "model.summary()"
      ],
      "execution_count": 23,
      "outputs": [
        {
          "output_type": "stream",
          "text": [
            "Model: \"sequential\"\n",
            "_________________________________________________________________\n",
            "Layer (type)                 Output Shape              Param #   \n",
            "=================================================================\n",
            "conv2d (Conv2D)              (None, 26, 26, 32)        320       \n",
            "=================================================================\n",
            "Total params: 320\n",
            "Trainable params: 320\n",
            "Non-trainable params: 0\n",
            "_________________________________________________________________\n"
          ],
          "name": "stdout"
        }
      ]
    },
    {
      "cell_type": "code",
      "metadata": {
        "id": "jP32tphVKdH_"
      },
      "source": [
        "model.add(layers.MaxPooling2D((2,2)))"
      ],
      "execution_count": 24,
      "outputs": []
    },
    {
      "cell_type": "code",
      "metadata": {
        "id": "Mddx2ke6KrAC"
      },
      "source": [
        "model.add(layers.Conv2D(64, (3,3), activation= 'relu'))"
      ],
      "execution_count": 25,
      "outputs": []
    },
    {
      "cell_type": "code",
      "metadata": {
        "colab": {
          "base_uri": "https://localhost:8080/"
        },
        "id": "NVZKLHLiK36_",
        "outputId": "c5213092-0644-43e3-ebb2-9a43f23970a0"
      },
      "source": [
        "model.summary()"
      ],
      "execution_count": 26,
      "outputs": [
        {
          "output_type": "stream",
          "text": [
            "Model: \"sequential\"\n",
            "_________________________________________________________________\n",
            "Layer (type)                 Output Shape              Param #   \n",
            "=================================================================\n",
            "conv2d (Conv2D)              (None, 26, 26, 32)        320       \n",
            "_________________________________________________________________\n",
            "max_pooling2d (MaxPooling2D) (None, 13, 13, 32)        0         \n",
            "_________________________________________________________________\n",
            "conv2d_1 (Conv2D)            (None, 11, 11, 64)        18496     \n",
            "=================================================================\n",
            "Total params: 18,816\n",
            "Trainable params: 18,816\n",
            "Non-trainable params: 0\n",
            "_________________________________________________________________\n"
          ],
          "name": "stdout"
        }
      ]
    },
    {
      "cell_type": "code",
      "metadata": {
        "id": "7bMPTpb7LB6h"
      },
      "source": [
        "model.add(layers.MaxPooling2D((2,2)))"
      ],
      "execution_count": 27,
      "outputs": []
    },
    {
      "cell_type": "code",
      "metadata": {
        "id": "z0sBci-kLQkD"
      },
      "source": [
        "model.add(layers.Conv2D(64, (3,3), activation='relu'))"
      ],
      "execution_count": 28,
      "outputs": []
    },
    {
      "cell_type": "code",
      "metadata": {
        "colab": {
          "base_uri": "https://localhost:8080/"
        },
        "id": "f97sFzY5LdcU",
        "outputId": "af40528b-5476-43ca-b298-6da1324e6aaa"
      },
      "source": [
        "model.summary()"
      ],
      "execution_count": 29,
      "outputs": [
        {
          "output_type": "stream",
          "text": [
            "Model: \"sequential\"\n",
            "_________________________________________________________________\n",
            "Layer (type)                 Output Shape              Param #   \n",
            "=================================================================\n",
            "conv2d (Conv2D)              (None, 26, 26, 32)        320       \n",
            "_________________________________________________________________\n",
            "max_pooling2d (MaxPooling2D) (None, 13, 13, 32)        0         \n",
            "_________________________________________________________________\n",
            "conv2d_1 (Conv2D)            (None, 11, 11, 64)        18496     \n",
            "_________________________________________________________________\n",
            "max_pooling2d_1 (MaxPooling2 (None, 5, 5, 64)          0         \n",
            "_________________________________________________________________\n",
            "conv2d_2 (Conv2D)            (None, 3, 3, 64)          36928     \n",
            "=================================================================\n",
            "Total params: 55,744\n",
            "Trainable params: 55,744\n",
            "Non-trainable params: 0\n",
            "_________________________________________________________________\n"
          ],
          "name": "stdout"
        }
      ]
    },
    {
      "cell_type": "code",
      "metadata": {
        "id": "DyKtGYrXLj99"
      },
      "source": [
        "model.add(layers.Flatten())"
      ],
      "execution_count": 30,
      "outputs": []
    },
    {
      "cell_type": "code",
      "metadata": {
        "colab": {
          "base_uri": "https://localhost:8080/"
        },
        "id": "S2K7T04rLpME",
        "outputId": "7d77fed1-7ddd-4241-f458-9dcdd02afe44"
      },
      "source": [
        "model.summary()"
      ],
      "execution_count": 31,
      "outputs": [
        {
          "output_type": "stream",
          "text": [
            "Model: \"sequential\"\n",
            "_________________________________________________________________\n",
            "Layer (type)                 Output Shape              Param #   \n",
            "=================================================================\n",
            "conv2d (Conv2D)              (None, 26, 26, 32)        320       \n",
            "_________________________________________________________________\n",
            "max_pooling2d (MaxPooling2D) (None, 13, 13, 32)        0         \n",
            "_________________________________________________________________\n",
            "conv2d_1 (Conv2D)            (None, 11, 11, 64)        18496     \n",
            "_________________________________________________________________\n",
            "max_pooling2d_1 (MaxPooling2 (None, 5, 5, 64)          0         \n",
            "_________________________________________________________________\n",
            "conv2d_2 (Conv2D)            (None, 3, 3, 64)          36928     \n",
            "_________________________________________________________________\n",
            "flatten (Flatten)            (None, 576)               0         \n",
            "=================================================================\n",
            "Total params: 55,744\n",
            "Trainable params: 55,744\n",
            "Non-trainable params: 0\n",
            "_________________________________________________________________\n"
          ],
          "name": "stdout"
        }
      ]
    },
    {
      "cell_type": "code",
      "metadata": {
        "id": "N8W5YE1cLxkS"
      },
      "source": [
        "model.add(layers.Dense(64, activation = 'relu'))"
      ],
      "execution_count": 32,
      "outputs": []
    },
    {
      "cell_type": "code",
      "metadata": {
        "id": "xWVMzcWaL57C"
      },
      "source": [
        "model.add(layers.Dense(10,activation= 'softmax'))"
      ],
      "execution_count": 33,
      "outputs": []
    },
    {
      "cell_type": "code",
      "metadata": {
        "colab": {
          "base_uri": "https://localhost:8080/"
        },
        "id": "pxF6P1d-MB3_",
        "outputId": "e4bfadc5-3d2b-4f1e-8431-b05b48e95109"
      },
      "source": [
        "model.summary()"
      ],
      "execution_count": 34,
      "outputs": [
        {
          "output_type": "stream",
          "text": [
            "Model: \"sequential\"\n",
            "_________________________________________________________________\n",
            "Layer (type)                 Output Shape              Param #   \n",
            "=================================================================\n",
            "conv2d (Conv2D)              (None, 26, 26, 32)        320       \n",
            "_________________________________________________________________\n",
            "max_pooling2d (MaxPooling2D) (None, 13, 13, 32)        0         \n",
            "_________________________________________________________________\n",
            "conv2d_1 (Conv2D)            (None, 11, 11, 64)        18496     \n",
            "_________________________________________________________________\n",
            "max_pooling2d_1 (MaxPooling2 (None, 5, 5, 64)          0         \n",
            "_________________________________________________________________\n",
            "conv2d_2 (Conv2D)            (None, 3, 3, 64)          36928     \n",
            "_________________________________________________________________\n",
            "flatten (Flatten)            (None, 576)               0         \n",
            "_________________________________________________________________\n",
            "dense (Dense)                (None, 64)                36928     \n",
            "_________________________________________________________________\n",
            "dense_1 (Dense)              (None, 10)                650       \n",
            "=================================================================\n",
            "Total params: 93,322\n",
            "Trainable params: 93,322\n",
            "Non-trainable params: 0\n",
            "_________________________________________________________________\n"
          ],
          "name": "stdout"
        }
      ]
    },
    {
      "cell_type": "code",
      "metadata": {
        "id": "tqTf5q5BMH6F"
      },
      "source": [
        "model.compile(loss='categorical_crossentropy',optimizer='rmsprop', metrics=['accuracy'])"
      ],
      "execution_count": 35,
      "outputs": []
    },
    {
      "cell_type": "code",
      "metadata": {
        "colab": {
          "base_uri": "https://localhost:8080/"
        },
        "id": "bIhzojmIMaOS",
        "outputId": "1f5320ae-d055-49a1-8521-608f6f1012ba"
      },
      "source": [
        "model.fit(train_images, train_labels, epochs = 100, batch_size=64)"
      ],
      "execution_count": 36,
      "outputs": [
        {
          "output_type": "stream",
          "text": [
            "Epoch 1/100\n",
            "938/938 [==============================] - 4s 4ms/step - loss: 0.1757 - accuracy: 0.9456\n",
            "Epoch 2/100\n",
            "938/938 [==============================] - 4s 4ms/step - loss: 0.0483 - accuracy: 0.9853\n",
            "Epoch 3/100\n",
            "938/938 [==============================] - 4s 4ms/step - loss: 0.0337 - accuracy: 0.9894\n",
            "Epoch 4/100\n",
            "938/938 [==============================] - 4s 4ms/step - loss: 0.0259 - accuracy: 0.9923\n",
            "Epoch 5/100\n",
            "938/938 [==============================] - 4s 4ms/step - loss: 0.0205 - accuracy: 0.9938\n",
            "Epoch 6/100\n",
            "938/938 [==============================] - 4s 4ms/step - loss: 0.0162 - accuracy: 0.9948\n",
            "Epoch 7/100\n",
            "938/938 [==============================] - 4s 4ms/step - loss: 0.0136 - accuracy: 0.9957\n",
            "Epoch 8/100\n",
            "938/938 [==============================] - 4s 4ms/step - loss: 0.0108 - accuracy: 0.9966\n",
            "Epoch 9/100\n",
            "938/938 [==============================] - 4s 4ms/step - loss: 0.0100 - accuracy: 0.9973\n",
            "Epoch 10/100\n",
            "938/938 [==============================] - 4s 4ms/step - loss: 0.0081 - accuracy: 0.9977\n",
            "Epoch 11/100\n",
            "938/938 [==============================] - 4s 4ms/step - loss: 0.0064 - accuracy: 0.9980\n",
            "Epoch 12/100\n",
            "938/938 [==============================] - 4s 4ms/step - loss: 0.0062 - accuracy: 0.9982\n",
            "Epoch 13/100\n",
            "938/938 [==============================] - 4s 4ms/step - loss: 0.0051 - accuracy: 0.9986\n",
            "Epoch 14/100\n",
            "938/938 [==============================] - 4s 4ms/step - loss: 0.0058 - accuracy: 0.9983\n",
            "Epoch 15/100\n",
            "938/938 [==============================] - 4s 4ms/step - loss: 0.0047 - accuracy: 0.9985\n",
            "Epoch 16/100\n",
            "938/938 [==============================] - 4s 4ms/step - loss: 0.0045 - accuracy: 0.9987\n",
            "Epoch 17/100\n",
            "938/938 [==============================] - 4s 4ms/step - loss: 0.0038 - accuracy: 0.9989\n",
            "Epoch 18/100\n",
            "938/938 [==============================] - 4s 4ms/step - loss: 0.0043 - accuracy: 0.9987\n",
            "Epoch 19/100\n",
            "938/938 [==============================] - 4s 4ms/step - loss: 0.0034 - accuracy: 0.9992\n",
            "Epoch 20/100\n",
            "938/938 [==============================] - 4s 4ms/step - loss: 0.0044 - accuracy: 0.9989\n",
            "Epoch 21/100\n",
            "938/938 [==============================] - 4s 4ms/step - loss: 0.0036 - accuracy: 0.9992\n",
            "Epoch 22/100\n",
            "938/938 [==============================] - 4s 4ms/step - loss: 0.0044 - accuracy: 0.9988\n",
            "Epoch 23/100\n",
            "938/938 [==============================] - 4s 4ms/step - loss: 0.0029 - accuracy: 0.9992\n",
            "Epoch 24/100\n",
            "938/938 [==============================] - 4s 4ms/step - loss: 0.0021 - accuracy: 0.9994\n",
            "Epoch 25/100\n",
            "938/938 [==============================] - 4s 4ms/step - loss: 0.0033 - accuracy: 0.9990\n",
            "Epoch 26/100\n",
            "938/938 [==============================] - 4s 4ms/step - loss: 0.0029 - accuracy: 0.9993\n",
            "Epoch 27/100\n",
            "938/938 [==============================] - 4s 4ms/step - loss: 0.0023 - accuracy: 0.9994\n",
            "Epoch 28/100\n",
            "938/938 [==============================] - 4s 4ms/step - loss: 0.0023 - accuracy: 0.9995\n",
            "Epoch 29/100\n",
            "938/938 [==============================] - 4s 4ms/step - loss: 0.0026 - accuracy: 0.9993\n",
            "Epoch 30/100\n",
            "938/938 [==============================] - 4s 4ms/step - loss: 0.0020 - accuracy: 0.9995\n",
            "Epoch 31/100\n",
            "938/938 [==============================] - 4s 4ms/step - loss: 0.0032 - accuracy: 0.9994\n",
            "Epoch 32/100\n",
            "938/938 [==============================] - 4s 4ms/step - loss: 0.0036 - accuracy: 0.9992\n",
            "Epoch 33/100\n",
            "938/938 [==============================] - 4s 4ms/step - loss: 0.0032 - accuracy: 0.9994\n",
            "Epoch 34/100\n",
            "938/938 [==============================] - 4s 4ms/step - loss: 0.0026 - accuracy: 0.9994\n",
            "Epoch 35/100\n",
            "938/938 [==============================] - 4s 4ms/step - loss: 0.0017 - accuracy: 0.9996\n",
            "Epoch 36/100\n",
            "938/938 [==============================] - 4s 4ms/step - loss: 0.0029 - accuracy: 0.9993\n",
            "Epoch 37/100\n",
            "938/938 [==============================] - 4s 4ms/step - loss: 0.0019 - accuracy: 0.9996\n",
            "Epoch 38/100\n",
            "938/938 [==============================] - 4s 4ms/step - loss: 0.0024 - accuracy: 0.9995\n",
            "Epoch 39/100\n",
            "938/938 [==============================] - 4s 4ms/step - loss: 0.0018 - accuracy: 0.9996\n",
            "Epoch 40/100\n",
            "938/938 [==============================] - 4s 4ms/step - loss: 0.0033 - accuracy: 0.9994\n",
            "Epoch 41/100\n",
            "938/938 [==============================] - 4s 4ms/step - loss: 0.0015 - accuracy: 0.9996\n",
            "Epoch 42/100\n",
            "938/938 [==============================] - 4s 4ms/step - loss: 0.0019 - accuracy: 0.9997\n",
            "Epoch 43/100\n",
            "938/938 [==============================] - 4s 4ms/step - loss: 0.0028 - accuracy: 0.9995\n",
            "Epoch 44/100\n",
            "938/938 [==============================] - 4s 4ms/step - loss: 0.0020 - accuracy: 0.9996\n",
            "Epoch 45/100\n",
            "938/938 [==============================] - 4s 4ms/step - loss: 0.0020 - accuracy: 0.9996\n",
            "Epoch 46/100\n",
            "938/938 [==============================] - 4s 4ms/step - loss: 0.0020 - accuracy: 0.9997\n",
            "Epoch 47/100\n",
            "938/938 [==============================] - 4s 4ms/step - loss: 0.0012 - accuracy: 0.9997\n",
            "Epoch 48/100\n",
            "938/938 [==============================] - 4s 4ms/step - loss: 0.0016 - accuracy: 0.9997\n",
            "Epoch 49/100\n",
            "938/938 [==============================] - 4s 4ms/step - loss: 0.0020 - accuracy: 0.9997\n",
            "Epoch 50/100\n",
            "938/938 [==============================] - 4s 4ms/step - loss: 0.0013 - accuracy: 0.9998\n",
            "Epoch 51/100\n",
            "938/938 [==============================] - 4s 4ms/step - loss: 0.0014 - accuracy: 0.9997\n",
            "Epoch 52/100\n",
            "938/938 [==============================] - 4s 4ms/step - loss: 0.0029 - accuracy: 0.9996\n",
            "Epoch 53/100\n",
            "938/938 [==============================] - 4s 4ms/step - loss: 0.0016 - accuracy: 0.9997\n",
            "Epoch 54/100\n",
            "938/938 [==============================] - 4s 4ms/step - loss: 0.0018 - accuracy: 0.9997\n",
            "Epoch 55/100\n",
            "938/938 [==============================] - 4s 4ms/step - loss: 9.7904e-04 - accuracy: 0.9998\n",
            "Epoch 56/100\n",
            "938/938 [==============================] - 4s 4ms/step - loss: 0.0013 - accuracy: 0.9997\n",
            "Epoch 57/100\n",
            "938/938 [==============================] - 4s 4ms/step - loss: 9.3002e-04 - accuracy: 0.9998\n",
            "Epoch 58/100\n",
            "938/938 [==============================] - 4s 4ms/step - loss: 0.0026 - accuracy: 0.9996\n",
            "Epoch 59/100\n",
            "938/938 [==============================] - 4s 4ms/step - loss: 0.0014 - accuracy: 0.9998\n",
            "Epoch 60/100\n",
            "938/938 [==============================] - 4s 4ms/step - loss: 0.0011 - accuracy: 0.9998\n",
            "Epoch 61/100\n",
            "938/938 [==============================] - 4s 4ms/step - loss: 0.0013 - accuracy: 0.9998\n",
            "Epoch 62/100\n",
            "938/938 [==============================] - 4s 4ms/step - loss: 0.0012 - accuracy: 0.9998\n",
            "Epoch 63/100\n",
            "938/938 [==============================] - 4s 4ms/step - loss: 0.0012 - accuracy: 0.9998\n",
            "Epoch 64/100\n",
            "938/938 [==============================] - 4s 4ms/step - loss: 0.0019 - accuracy: 0.9997\n",
            "Epoch 65/100\n",
            "938/938 [==============================] - 4s 4ms/step - loss: 8.8860e-04 - accuracy: 0.9998\n",
            "Epoch 66/100\n",
            "938/938 [==============================] - 4s 4ms/step - loss: 4.0641e-04 - accuracy: 0.9999\n",
            "Epoch 67/100\n",
            "938/938 [==============================] - 4s 4ms/step - loss: 0.0025 - accuracy: 0.9996\n",
            "Epoch 68/100\n",
            "938/938 [==============================] - 4s 4ms/step - loss: 9.2008e-04 - accuracy: 0.9999\n",
            "Epoch 69/100\n",
            "938/938 [==============================] - 4s 4ms/step - loss: 7.0082e-04 - accuracy: 0.9998\n",
            "Epoch 70/100\n",
            "938/938 [==============================] - 4s 4ms/step - loss: 7.1336e-04 - accuracy: 0.9998\n",
            "Epoch 71/100\n",
            "938/938 [==============================] - 4s 4ms/step - loss: 0.0017 - accuracy: 0.9998\n",
            "Epoch 72/100\n",
            "938/938 [==============================] - 4s 4ms/step - loss: 0.0021 - accuracy: 0.9998\n",
            "Epoch 73/100\n",
            "938/938 [==============================] - 4s 4ms/step - loss: 0.0013 - accuracy: 0.9999\n",
            "Epoch 74/100\n",
            "938/938 [==============================] - 4s 4ms/step - loss: 6.8038e-04 - accuracy: 0.9999\n",
            "Epoch 75/100\n",
            "938/938 [==============================] - 4s 4ms/step - loss: 0.0012 - accuracy: 0.9999\n",
            "Epoch 76/100\n",
            "938/938 [==============================] - 4s 4ms/step - loss: 5.7338e-04 - accuracy: 0.9999\n",
            "Epoch 77/100\n",
            "938/938 [==============================] - 4s 4ms/step - loss: 3.7423e-04 - accuracy: 0.9999\n",
            "Epoch 78/100\n",
            "938/938 [==============================] - 4s 4ms/step - loss: 0.0017 - accuracy: 0.9997\n",
            "Epoch 79/100\n",
            "938/938 [==============================] - 4s 4ms/step - loss: 0.0014 - accuracy: 0.9997\n",
            "Epoch 80/100\n",
            "938/938 [==============================] - 4s 4ms/step - loss: 0.0011 - accuracy: 0.9998\n",
            "Epoch 81/100\n",
            "938/938 [==============================] - 4s 4ms/step - loss: 5.4220e-04 - accuracy: 0.9999\n",
            "Epoch 82/100\n",
            "938/938 [==============================] - 4s 4ms/step - loss: 6.2603e-04 - accuracy: 0.9999\n",
            "Epoch 83/100\n",
            "938/938 [==============================] - 4s 4ms/step - loss: 9.7056e-04 - accuracy: 0.9998\n",
            "Epoch 84/100\n",
            "938/938 [==============================] - 4s 4ms/step - loss: 0.0011 - accuracy: 0.9998\n",
            "Epoch 85/100\n",
            "938/938 [==============================] - 4s 4ms/step - loss: 0.0019 - accuracy: 0.9998\n",
            "Epoch 86/100\n",
            "938/938 [==============================] - 4s 4ms/step - loss: 2.3447e-04 - accuracy: 1.0000\n",
            "Epoch 87/100\n",
            "938/938 [==============================] - 4s 4ms/step - loss: 0.0014 - accuracy: 0.9998\n",
            "Epoch 88/100\n",
            "938/938 [==============================] - 4s 4ms/step - loss: 0.0015 - accuracy: 0.9999\n",
            "Epoch 89/100\n",
            "938/938 [==============================] - 4s 4ms/step - loss: 5.1845e-04 - accuracy: 0.9999\n",
            "Epoch 90/100\n",
            "938/938 [==============================] - 4s 4ms/step - loss: 0.0013 - accuracy: 0.9998\n",
            "Epoch 91/100\n",
            "938/938 [==============================] - 4s 4ms/step - loss: 6.8720e-04 - accuracy: 0.9998\n",
            "Epoch 92/100\n",
            "938/938 [==============================] - 4s 4ms/step - loss: 0.0019 - accuracy: 0.9998\n",
            "Epoch 93/100\n",
            "938/938 [==============================] - 4s 4ms/step - loss: 3.7689e-04 - accuracy: 0.9999\n",
            "Epoch 94/100\n",
            "938/938 [==============================] - 4s 4ms/step - loss: 6.5806e-04 - accuracy: 0.9999\n",
            "Epoch 95/100\n",
            "938/938 [==============================] - 4s 4ms/step - loss: 0.0015 - accuracy: 0.9999\n",
            "Epoch 96/100\n",
            "938/938 [==============================] - 4s 4ms/step - loss: 3.7671e-04 - accuracy: 0.9999\n",
            "Epoch 97/100\n",
            "938/938 [==============================] - 4s 4ms/step - loss: 0.0011 - accuracy: 0.9999\n",
            "Epoch 98/100\n",
            "938/938 [==============================] - 4s 4ms/step - loss: 5.6876e-04 - accuracy: 0.9999\n",
            "Epoch 99/100\n",
            "938/938 [==============================] - 4s 4ms/step - loss: 3.0636e-04 - accuracy: 0.9999\n",
            "Epoch 100/100\n",
            "938/938 [==============================] - 4s 4ms/step - loss: 4.7371e-04 - accuracy: 0.9999\n"
          ],
          "name": "stdout"
        },
        {
          "output_type": "execute_result",
          "data": {
            "text/plain": [
              "<tensorflow.python.keras.callbacks.History at 0x7f52c0386828>"
            ]
          },
          "metadata": {
            "tags": []
          },
          "execution_count": 36
        }
      ]
    },
    {
      "cell_type": "code",
      "metadata": {
        "colab": {
          "base_uri": "https://localhost:8080/"
        },
        "id": "XG6ZRXqfwLQ_",
        "outputId": "87f28982-c49e-448d-e049-2281a16c234d"
      },
      "source": [
        "test_loss, test_accuracy = model.evaluate(test_images, test_labels)"
      ],
      "execution_count": 37,
      "outputs": [
        {
          "output_type": "stream",
          "text": [
            "313/313 [==============================] - 1s 2ms/step - loss: 0.2457 - accuracy: 0.9917\n"
          ],
          "name": "stdout"
        }
      ]
    },
    {
      "cell_type": "code",
      "metadata": {
        "colab": {
          "base_uri": "https://localhost:8080/"
        },
        "id": "ZiP4Q-2HyCla",
        "outputId": "ad193fb3-eb9a-45e7-db58-b1bd0168f078"
      },
      "source": [
        "test_accuracy\n"
      ],
      "execution_count": 38,
      "outputs": [
        {
          "output_type": "execute_result",
          "data": {
            "text/plain": [
              "0.9916999936103821"
            ]
          },
          "metadata": {
            "tags": []
          },
          "execution_count": 38
        }
      ]
    },
    {
      "cell_type": "code",
      "metadata": {
        "colab": {
          "base_uri": "https://localhost:8080/"
        },
        "id": "PeMa2AFzyIRW",
        "outputId": "12521d34-e8ba-4051-bc72-24427a35aa2e"
      },
      "source": [
        "predictions = model.predict_classes(test_images)"
      ],
      "execution_count": 39,
      "outputs": [
        {
          "output_type": "stream",
          "text": [
            "WARNING:tensorflow:From <ipython-input-39-cd3d268a0ddd>:1: Sequential.predict_classes (from tensorflow.python.keras.engine.sequential) is deprecated and will be removed after 2021-01-01.\n",
            "Instructions for updating:\n",
            "Please use instead:* `np.argmax(model.predict(x), axis=-1)`,   if your model does multi-class classification   (e.g. if it uses a `softmax` last-layer activation).* `(model.predict(x) > 0.5).astype(\"int32\")`,   if your model does binary classification   (e.g. if it uses a `sigmoid` last-layer activation).\n"
          ],
          "name": "stdout"
        }
      ]
    },
    {
      "cell_type": "code",
      "metadata": {
        "colab": {
          "base_uri": "https://localhost:8080/",
          "height": 282
        },
        "id": "juNvD5mVyjZ6",
        "outputId": "f42c3d2a-b4f1-46c1-f0c0-24a8ec653c9e"
      },
      "source": [
        "plt.imshow(image.array_to_img(test_images[999]), cmap=\"gray\")"
      ],
      "execution_count": 40,
      "outputs": [
        {
          "output_type": "execute_result",
          "data": {
            "text/plain": [
              "<matplotlib.image.AxesImage at 0x7f5248315c50>"
            ]
          },
          "metadata": {
            "tags": []
          },
          "execution_count": 40
        },
        {
          "output_type": "display_data",
          "data": {
            "image/png": "[encoded data removed]",
            "text/plain": [
              "<Figure size 432x288 with 1 Axes>"
            ]
          },
          "metadata": {
            "tags": [],
            "needs_background": "light"
          }
        }
      ]
    },
    {
      "cell_type": "code",
      "metadata": {
        "colab": {
          "base_uri": "https://localhost:8080/"
        },
        "id": "JTtoKPdfywZt",
        "outputId": "dd4b0f0d-05c4-4e0e-c081-755e91a77c22"
      },
      "source": [
        "predictions[999]"
      ],
      "execution_count": 41,
      "outputs": [
        {
          "output_type": "execute_result",
          "data": {
            "text/plain": [
              "9"
            ]
          },
          "metadata": {
            "tags": []
          },
          "execution_count": 41
        }
      ]
    },
    {
      "cell_type": "code",
      "metadata": {
        "colab": {
          "base_uri": "https://localhost:8080/",
          "height": 282
        },
        "id": "dc70II_ryzf8",
        "outputId": "a81f0d95-8e21-4afa-c786-b6688929c509"
      },
      "source": [
        "plt.imshow(image.array_to_img(test_images[8888]))"
      ],
      "execution_count": 42,
      "outputs": [
        {
          "output_type": "execute_result",
          "data": {
            "text/plain": [
              "<matplotlib.image.AxesImage at 0x7f5248220b38>"
            ]
          },
          "metadata": {
            "tags": []
          },
          "execution_count": 42
        },
        {
          "output_type": "display_data",
          "data": {
            "image/png": "[encoded data removed]",
            "text/plain": [
              "<Figure size 432x288 with 1 Axes>"
            ]
          },
          "metadata": {
            "tags": [],
            "needs_background": "light"
          }
        }
      ]
    },
    {
      "cell_type": "code",
      "metadata": {
        "colab": {
          "base_uri": "https://localhost:8080/"
        },
        "id": "D-wTf2EmzXQd",
        "outputId": "1243accf-d6f5-4b6a-8ded-f7ed44fc3918"
      },
      "source": [
        "predictions[8888]"
      ],
      "execution_count": 43,
      "outputs": [
        {
          "output_type": "execute_result",
          "data": {
            "text/plain": [
              "6"
            ]
          },
          "metadata": {
            "tags": []
          },
          "execution_count": 43
        }
      ]
    },
    {
      "cell_type": "code",
      "metadata": {
        "colab": {
          "base_uri": "https://localhost:8080/",
          "height": 282
        },
        "id": "bCJV2Qawzasd",
        "outputId": "2f4aa3e6-e45c-4e8b-d991-9e30f5e526c5"
      },
      "source": [
        "plt.imshow(image.array_to_img(test_images[3245]))"
      ],
      "execution_count": 48,
      "outputs": [
        {
          "output_type": "execute_result",
          "data": {
            "text/plain": [
              "<matplotlib.image.AxesImage at 0x7f52480b34e0>"
            ]
          },
          "metadata": {
            "tags": []
          },
          "execution_count": 48
        },
        {
          "output_type": "display_data",
          "data": {
            "image/png": "[encoded data removed]",
            "text/plain": [
              "<Figure size 432x288 with 1 Axes>"
            ]
          },
          "metadata": {
            "tags": [],
            "needs_background": "light"
          }
        }
      ]
    },
    {
      "cell_type": "code",
      "metadata": {
        "colab": {
          "base_uri": "https://localhost:8080/"
        },
        "id": "gdLdrMOPzuaI",
        "outputId": "812b3669-266b-4b9f-b6fd-d93fd09aaaad"
      },
      "source": [
        "predictions[3245]"
      ],
      "execution_count": 49,
      "outputs": [
        {
          "output_type": "execute_result",
          "data": {
            "text/plain": [
              "8"
            ]
          },
          "metadata": {
            "tags": []
          },
          "execution_count": 49
        }
      ]
    }
  ]
}